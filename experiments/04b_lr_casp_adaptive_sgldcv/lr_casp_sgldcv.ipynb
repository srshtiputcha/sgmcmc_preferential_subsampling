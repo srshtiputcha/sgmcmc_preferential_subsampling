{
 "cells": [
  {
   "cell_type": "code",
   "execution_count": 1,
   "metadata": {},
   "outputs": [
    {
     "name": "stderr",
     "output_type": "stream",
     "text": [
      "WARNING:absl:No GPU/TPU found, falling back to CPU. (Set TF_CPP_MIN_LOG_LEVEL=0 and rerun for more info.)\n"
     ]
    }
   ],
   "source": [
    "#import modules and set up environment \n",
    "import os\n",
    "import sys\n",
    "path = \"../../src/\"\n",
    "\n",
    "sys.path.append(path)\n",
    "import glob\n",
    "import numpy as np\n",
    "import pandas as pd\n",
    "import matplotlib.pyplot as plt\n",
    "import seaborn as sns\n",
    "from tqdm import tqdm\n",
    "import jax.numpy as jnp\n",
    "from jax import jit, grad, vmap, hessian, scipy, random\n",
    "\n",
    "#import sgmcmc code \n",
    "import models.linear_regression.linear_regression as lr\n",
    "from samplers import sgd as sgd\n",
    "from samplers import sgld as sgld\n",
    "from samplers import sgldps as sgldps\n",
    "from samplers import sgldcv as sgldcv\n",
    "from samplers import sgldcvps as sgldcvps\n",
    "\n",
    "key = random.PRNGKey(11)"
   ]
  },
  {
   "cell_type": "code",
   "execution_count": 2,
   "metadata": {},
   "outputs": [],
   "source": [
    "#set up model-specific gradient functions\n",
    "gradf_0 = lr.gradf_0\n",
    "gradf_i_batch = lr.gradf_i_batch\n",
    "post_var = lr.post_var"
   ]
  },
  {
   "cell_type": "markdown",
   "metadata": {},
   "source": [
    "### Set up model and data"
   ]
  },
  {
   "cell_type": "code",
   "execution_count": 3,
   "metadata": {},
   "outputs": [],
   "source": [
    "#load in the data\n",
    "file_path = \"../../data/real/casp_scaled.csv\"\n",
    "data = pd.read_csv(file_path)\n",
    "dat_array = data.values[:]\n",
    "N = dat_array.shape[0]\n",
    "x = np.column_stack([np.ones(N), dat_array[:, 1:]])\n",
    "y = dat_array[:,0]\n",
    "\n",
    "#set up model parameters\n",
    "dim = x.shape[1] "
   ]
  },
  {
   "cell_type": "code",
   "execution_count": 4,
   "metadata": {},
   "outputs": [
    {
     "data": {
      "text/html": [
       "<div>\n",
       "<style scoped>\n",
       "    .dataframe tbody tr th:only-of-type {\n",
       "        vertical-align: middle;\n",
       "    }\n",
       "\n",
       "    .dataframe tbody tr th {\n",
       "        vertical-align: top;\n",
       "    }\n",
       "\n",
       "    .dataframe thead th {\n",
       "        text-align: right;\n",
       "    }\n",
       "</style>\n",
       "<table border=\"1\" class=\"dataframe\">\n",
       "  <thead>\n",
       "    <tr style=\"text-align: right;\">\n",
       "      <th></th>\n",
       "      <th>RMSD</th>\n",
       "      <th>F1</th>\n",
       "      <th>F2</th>\n",
       "      <th>F3</th>\n",
       "      <th>F4</th>\n",
       "      <th>F5</th>\n",
       "      <th>F6</th>\n",
       "      <th>F7</th>\n",
       "      <th>F8</th>\n",
       "      <th>F9</th>\n",
       "    </tr>\n",
       "  </thead>\n",
       "  <tbody>\n",
       "    <tr>\n",
       "      <td>0</td>\n",
       "      <td>1.558531</td>\n",
       "      <td>0.908481</td>\n",
       "      <td>0.879584</td>\n",
       "      <td>0.240885</td>\n",
       "      <td>1.058750</td>\n",
       "      <td>0.894440</td>\n",
       "      <td>0.996035</td>\n",
       "      <td>0.149539</td>\n",
       "      <td>0.566885</td>\n",
       "      <td>-1.253153</td>\n",
       "    </tr>\n",
       "    <tr>\n",
       "      <td>1</td>\n",
       "      <td>-0.282357</td>\n",
       "      <td>-0.906740</td>\n",
       "      <td>-0.952127</td>\n",
       "      <td>-0.640245</td>\n",
       "      <td>-0.903989</td>\n",
       "      <td>-1.001457</td>\n",
       "      <td>-0.834813</td>\n",
       "      <td>-0.331492</td>\n",
       "      <td>-0.548301</td>\n",
       "      <td>0.672800</td>\n",
       "    </tr>\n",
       "    <tr>\n",
       "      <td>2</td>\n",
       "      <td>0.249495</td>\n",
       "      <td>-0.528725</td>\n",
       "      <td>-0.881704</td>\n",
       "      <td>-1.255652</td>\n",
       "      <td>-0.653210</td>\n",
       "      <td>-0.518857</td>\n",
       "      <td>-0.912117</td>\n",
       "      <td>-0.505989</td>\n",
       "      <td>-0.725315</td>\n",
       "      <td>0.717134</td>\n",
       "    </tr>\n",
       "    <tr>\n",
       "      <td>3</td>\n",
       "      <td>1.324313</td>\n",
       "      <td>-0.356576</td>\n",
       "      <td>-0.443293</td>\n",
       "      <td>-0.338425</td>\n",
       "      <td>-0.643398</td>\n",
       "      <td>-0.279821</td>\n",
       "      <td>-0.517141</td>\n",
       "      <td>-0.371967</td>\n",
       "      <td>0.000441</td>\n",
       "      <td>0.759477</td>\n",
       "    </tr>\n",
       "    <tr>\n",
       "      <td>4</td>\n",
       "      <td>0.034891</td>\n",
       "      <td>-0.594061</td>\n",
       "      <td>-0.874424</td>\n",
       "      <td>-1.106651</td>\n",
       "      <td>-0.921619</td>\n",
       "      <td>-0.615710</td>\n",
       "      <td>-0.730225</td>\n",
       "      <td>-0.589569</td>\n",
       "      <td>-0.512898</td>\n",
       "      <td>0.901558</td>\n",
       "    </tr>\n",
       "  </tbody>\n",
       "</table>\n",
       "</div>"
      ],
      "text/plain": [
       "       RMSD        F1        F2        F3        F4        F5        F6  \\\n",
       "0  1.558531  0.908481  0.879584  0.240885  1.058750  0.894440  0.996035   \n",
       "1 -0.282357 -0.906740 -0.952127 -0.640245 -0.903989 -1.001457 -0.834813   \n",
       "2  0.249495 -0.528725 -0.881704 -1.255652 -0.653210 -0.518857 -0.912117   \n",
       "3  1.324313 -0.356576 -0.443293 -0.338425 -0.643398 -0.279821 -0.517141   \n",
       "4  0.034891 -0.594061 -0.874424 -1.106651 -0.921619 -0.615710 -0.730225   \n",
       "\n",
       "         F7        F8        F9  \n",
       "0  0.149539  0.566885 -1.253153  \n",
       "1 -0.331492 -0.548301  0.672800  \n",
       "2 -0.505989 -0.725315  0.717134  \n",
       "3 -0.371967  0.000441  0.759477  \n",
       "4 -0.589569 -0.512898  0.901558  "
      ]
     },
     "execution_count": 4,
     "metadata": {},
     "output_type": "execute_result"
    }
   ],
   "source": [
    "data.head()"
   ]
  },
  {
   "cell_type": "markdown",
   "metadata": {},
   "source": [
    "### Set up sampling framework"
   ]
  },
  {
   "cell_type": "code",
   "execution_count": 5,
   "metadata": {},
   "outputs": [],
   "source": [
    "# step-size\n",
    "step_size = 1e-5\n",
    "step_sgd = 1e-3\n",
    "# batch sizes\n",
    "n_batch = np.int64(N*0.001)\n",
    "# number of chains (first chain discarded due to slower runtime)\n",
    "N_rep = 11\n",
    "#iterations\n",
    "burnin = np.int64(10/0.001)\n",
    "Niter = 2*burnin"
   ]
  },
  {
   "cell_type": "markdown",
   "metadata": {},
   "source": [
    "### Running SGLD-CV (0.001N) sampler"
   ]
  },
  {
   "cell_type": "code",
   "execution_count": 6,
   "metadata": {},
   "outputs": [],
   "source": [
    "runtime_df=[]\n",
    "samples_df = []\n",
    "grads_df = []"
   ]
  },
  {
   "cell_type": "code",
   "execution_count": 7,
   "metadata": {},
   "outputs": [
    {
     "name": "stderr",
     "output_type": "stream",
     "text": [
      "Number of chains run: 100%|██████████| 11/11 [08:49<00:00, 48.15s/it]\n"
     ]
    }
   ],
   "source": [
    "for i in tqdm(range(N_rep), desc = \"Number of chains run\"):\n",
    "    key, subkey = random.split(key)\n",
    "    theta_0 = jnp.zeros(dim)\n",
    "    theta_hat, samples_sgd, runtime_sgd = sgd.adam(key, gradf_0, gradf_i_batch, burnin, theta_0, x, y, n_batch, step_sgd, replacement=True)\n",
    "    samples, grads, runtime = sgldcv.sgld_cv_sampler(subkey, gradf_0, gradf_i_batch, burnin, step_size, theta_hat, theta_hat, x, y, n_batch, replacement=True)\n",
    "    \n",
    "    runtime_df.append(np.concatenate((runtime_sgd, runtime_sgd[burnin-1]+runtime))) #join output\n",
    "    samples_df.append(np.concatenate((samples_sgd, samples[1:]), axis=0))\n",
    "    grads_df.append(grads)    "
   ]
  },
  {
   "cell_type": "code",
   "execution_count": 8,
   "metadata": {},
   "outputs": [],
   "source": [
    "runtime_df = pd.DataFrame(np.column_stack(runtime_df)) #save output\n",
    "runtime_df.to_csv(\"./out/lr_sgldcv_runtime.csv\", index=False)\n",
    "samples_df = pd.DataFrame(np.column_stack(samples_df))\n",
    "samples_df.to_csv(\"./out/lr_sgldcv_samples.csv\", index=False)\n",
    "grads_df = pd.DataFrame(np.column_stack(grads_df))\n",
    "grads_df.to_csv(\"./out/lr_sgldcv_grads.csv\", index=False)"
   ]
  },
  {
   "cell_type": "markdown",
   "metadata": {},
   "source": [
    "### Running SGLD-CV-PS (0.001N) sampler"
   ]
  },
  {
   "cell_type": "code",
   "execution_count": 15,
   "metadata": {},
   "outputs": [],
   "source": [
    "runtime_df=[]\n",
    "samples_df = []\n",
    "grads_df = []"
   ]
  },
  {
   "cell_type": "code",
   "execution_count": 16,
   "metadata": {},
   "outputs": [
    {
     "name": "stderr",
     "output_type": "stream",
     "text": [
      "Number of chains run: 100%|██████████| 11/11 [27:17<00:00, 148.88s/it]\n"
     ]
    }
   ],
   "source": [
    "for i in tqdm(range(N_rep), desc = \"Number of chains run\"):\n",
    "    key, subkey = random.split(key)\n",
    "    theta_0 = jnp.zeros(dim)\n",
    "    theta_hat, samples_sgd, runtime_sgd = sgd.adam(key, gradf_0, gradf_i_batch, burnin, theta_0, x, y, n_batch, step_sgd, replacement=True)\n",
    "    samples, grads, runtime, probs = sgldcvps.sgldcv_ps_sampler(subkey, gradf_0, gradf_i_batch, post_var, burnin, step_size, theta_hat, theta_hat, x, y, n_batch)\n",
    "    runtime_df.append(np.concatenate((runtime_sgd, runtime_sgd[burnin-1]+runtime))) #join output\n",
    "    samples_df.append(np.concatenate((samples_sgd, samples[1:]), axis=0))\n",
    "    grads_df.append(grads) "
   ]
  },
  {
   "cell_type": "code",
   "execution_count": 17,
   "metadata": {},
   "outputs": [],
   "source": [
    "runtime_df = pd.DataFrame(np.column_stack(runtime_df))\n",
    "runtime_df.to_csv(\"./out/lr_sgldcvps_runtime.csv\", index=False)\n",
    "samples_df = pd.DataFrame(np.column_stack(samples_df))\n",
    "samples_df.to_csv(\"./out/lr_sgldcvps_samples.csv\", index=False)\n",
    "grads_df = pd.DataFrame(np.column_stack(grads_df))\n",
    "grads_df.to_csv(\"./out/lr_sgldcvps_grads.csv\", index=False)"
   ]
  }
 ],
 "metadata": {
  "kernelspec": {
   "display_name": "Python 3",
   "language": "python",
   "name": "python3"
  },
  "language_info": {
   "codemirror_mode": {
    "name": "ipython",
    "version": 3
   },
   "file_extension": ".py",
   "mimetype": "text/x-python",
   "name": "python",
   "nbconvert_exporter": "python",
   "pygments_lexer": "ipython3",
   "version": "3.7.4"
  }
 },
 "nbformat": 4,
 "nbformat_minor": 2
}
