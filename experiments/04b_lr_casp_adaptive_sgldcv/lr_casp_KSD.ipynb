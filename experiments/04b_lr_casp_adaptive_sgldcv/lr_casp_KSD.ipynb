{
 "cells": [
  {
   "cell_type": "code",
   "execution_count": 1,
   "metadata": {},
   "outputs": [
    {
     "name": "stderr",
     "output_type": "stream",
     "text": [
      "/opt/anaconda/anaconda3/lib/python3.7/site-packages/statsmodels/tools/_testing.py:19: FutureWarning: pandas.util.testing is deprecated. Use the functions in the public API at pandas.testing instead.\n",
      "  import pandas.util.testing as tm\n",
      "WARNING:absl:No GPU/TPU found, falling back to CPU. (Set TF_CPP_MIN_LOG_LEVEL=0 and rerun for more info.)\n"
     ]
    }
   ],
   "source": [
    "#import modules and set up environment \n",
    "import os\n",
    "import sys\n",
    "path = \"../../src/\"\n",
    "\n",
    "sys.path.append(path)\n",
    "import glob\n",
    "import numpy as np\n",
    "import pandas as pd\n",
    "import matplotlib.pyplot as plt\n",
    "import seaborn as sns\n",
    "from tqdm import tqdm\n",
    "import jax.numpy as jnp\n",
    "from jax import jit, grad, vmap, hessian, scipy, random\n",
    "\n",
    "#import sgmcmc code \n",
    "import models.linear_regression.linear_regression as lr\n",
    "from samplers import sgd as sgd\n",
    "from samplers import sgld as sgld\n",
    "from samplers import sgldps as sgldps\n",
    "from samplers import sgldcv as sgldcv\n",
    "from samplers import sgldcvps as sgldcvps\n",
    "\n",
    "key = random.PRNGKey(11)\n",
    "from metrics import imq_KSD"
   ]
  },
  {
   "cell_type": "code",
   "execution_count": 2,
   "metadata": {},
   "outputs": [],
   "source": [
    "#set up model-specific gradient functions\n",
    "gradf_0 = lr.gradf_0\n",
    "gradf_i_batch = lr.gradf_i_batch\n",
    "post_var = lr.post_var"
   ]
  },
  {
   "cell_type": "code",
   "execution_count": 3,
   "metadata": {},
   "outputs": [],
   "source": [
    "#load in the data\n",
    "file_path = \"../../data/real/casp_scaled.csv\"\n",
    "data = pd.read_csv(file_path)\n",
    "dat_array = data.values[:]\n",
    "N = dat_array.shape[0]\n",
    "x = np.column_stack([np.ones(N), dat_array[:, 1:]])\n",
    "y = dat_array[:,0]\n",
    "\n",
    "#set up model parameters\n",
    "dim = x.shape[1] "
   ]
  },
  {
   "cell_type": "markdown",
   "metadata": {},
   "source": [
    "### Importing csv files"
   ]
  },
  {
   "cell_type": "code",
   "execution_count": 4,
   "metadata": {},
   "outputs": [],
   "source": [
    "methods = [\"sgldcv\", \"sgldcvps\", \"asgldcv\", \"asgldcvps\"]\n",
    "samples_csv = dict()\n",
    "#iterations\n",
    "Niter = np.int64(100/0.01)\n",
    "\n",
    "for i in range(len(methods)):\n",
    "    method = methods[i]\n",
    "    items = glob.glob(f\"./out/lr_{method}_samples.csv\")[0]\n",
    "    samples_csv[method] = pd.read_csv(items).iloc[(Niter+1):].reset_index(drop=True)"
   ]
  },
  {
   "cell_type": "code",
   "execution_count": 5,
   "metadata": {},
   "outputs": [],
   "source": [
    "grads_csv = dict()\n",
    "\n",
    "#gradients for all methods\n",
    "for i in range(len(methods)):\n",
    "    method = methods[i]\n",
    "    items = glob.glob(f\"./out/lr_{method}_grads.csv\")[0]\n",
    "    grads_csv[method] = pd.read_csv(items).iloc[:].reset_index(drop=True)"
   ]
  },
  {
   "cell_type": "markdown",
   "metadata": {},
   "source": [
    "### KSD evaluation"
   ]
  },
  {
   "cell_type": "code",
   "execution_count": 6,
   "metadata": {},
   "outputs": [],
   "source": [
    "Nrep = 10"
   ]
  },
  {
   "cell_type": "code",
   "execution_count": 7,
   "metadata": {},
   "outputs": [
    {
     "name": "stderr",
     "output_type": "stream",
     "text": [
      "Methods: 100%|██████████| 4/4 [46:41<00:00, 700.39s/it]\n"
     ]
    }
   ],
   "source": [
    "for k in tqdm(range(len(methods)), desc= \"Methods\"):\n",
    "    method = methods[k]\n",
    "    idx=np.arange(Niter, 0, -200)[::-1]-1\n",
    "    ksd_arr = np.zeros((idx.shape[0], Nrep))\n",
    "    for j in range(Nrep):\n",
    "        for i in range(idx.shape[0]):\n",
    "            index = idx[i]\n",
    "            samples = samples_csv[method].values[:index, (dim*(j+1)):dim*(j+2)]\n",
    "            grads = grads_csv[method].values[:index, (dim*(j+1)):dim*(j+2)]\n",
    "            ksd_arr[i, j] = np.log10(imq_KSD(samples, grads))\n",
    "        \n",
    "    ksd_arr_df = pd.DataFrame(ksd_arr)\n",
    "    ksd_arr_df.to_csv(f\"./out/ksdcasp_{method}.csv\", index=False)"
   ]
  }
 ],
 "metadata": {
  "kernelspec": {
   "display_name": "Python 3",
   "language": "python",
   "name": "python3"
  },
  "language_info": {
   "codemirror_mode": {
    "name": "ipython",
    "version": 3
   },
   "file_extension": ".py",
   "mimetype": "text/x-python",
   "name": "python",
   "nbconvert_exporter": "python",
   "pygments_lexer": "ipython3",
   "version": "3.7.4"
  }
 },
 "nbformat": 4,
 "nbformat_minor": 2
}
