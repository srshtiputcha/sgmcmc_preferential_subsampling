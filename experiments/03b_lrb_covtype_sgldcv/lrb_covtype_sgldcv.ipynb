{
 "cells": [
  {
   "cell_type": "code",
   "execution_count": 1,
   "metadata": {},
   "outputs": [
    {
     "name": "stderr",
     "output_type": "stream",
     "text": [
      "WARNING:absl:No GPU/TPU found, falling back to CPU. (Set TF_CPP_MIN_LOG_LEVEL=0 and rerun for more info.)\n"
     ]
    }
   ],
   "source": [
    "#import modules and set up environment \n",
    "import os\n",
    "import sys\n",
    "path = \"../../src/\"\n",
    "\n",
    "sys.path.append(path)\n",
    "import glob\n",
    "import numpy as np\n",
    "import pandas as pd\n",
    "import matplotlib.pyplot as plt\n",
    "import seaborn as sns\n",
    "from tqdm import tqdm\n",
    "import jax.numpy as jnp\n",
    "from jax import jit, grad, vmap, hessian, scipy, random\n",
    "\n",
    "#import sgmcmc code \n",
    "\n",
    "import models.logistic_regression.logistic_regression as lr\n",
    "from samplers import sgd as sgd\n",
    "from samplers import sgld as sgld\n",
    "from samplers import sgldps as sgldps\n",
    "from samplers import sgldcv as sgldcv\n",
    "from samplers import sgldcvps as sgldcvps\n",
    "\n",
    "key = random.PRNGKey(11)"
   ]
  },
  {
   "cell_type": "code",
   "execution_count": 2,
   "metadata": {},
   "outputs": [],
   "source": [
    "#set up model-specific gradient functions\n",
    "gradf_0 = lr.gradf_0\n",
    "gradf_i_batch = lr.gradf_i_batch\n",
    "post_var = lr.post_var"
   ]
  },
  {
   "cell_type": "markdown",
   "metadata": {},
   "source": [
    "### Set up model and data"
   ]
  },
  {
   "cell_type": "code",
   "execution_count": 3,
   "metadata": {},
   "outputs": [],
   "source": [
    "#load in the data\n",
    "file_path = \"../../data/real/covtype_train.csv\"\n",
    "test_path = \"../../data/real/covtype_test.csv\"\n",
    "data = pd.read_csv(file_path)\n",
    "dat_array = data.values[:]\n",
    "N = dat_array.shape[0]\n",
    "x = np.column_stack([np.ones(N), dat_array[:, 1:]])\n",
    "y = dat_array[:,0]\n",
    "test_data = pd.read_csv(test_path)\n",
    "test_array = test_data.values[:]\n",
    "N_test = test_array.shape[0]\n",
    "x_test = np.column_stack([np.ones(N_test), test_array[:, 1:]])\n",
    "y_test = test_array[:,0]\n",
    "\n",
    "#set up model parameters\n",
    "dim = x.shape[1] \n",
    "\n",
    "#priors\n",
    "mu_0 = np.zeros(dim) #prior mean\n",
    "lambda_0 = 10.0*np.eye(dim)  #prior covariance matrix"
   ]
  },
  {
   "cell_type": "markdown",
   "metadata": {},
   "source": [
    "### Set up sampling framework"
   ]
  },
  {
   "cell_type": "code",
   "execution_count": 4,
   "metadata": {},
   "outputs": [],
   "source": [
    "# step-size\n",
    "step_size = 10**(-6)\n",
    "step_sgd = 1e-3\n",
    "# batch sizes\n",
    "n_batch = np.int64(N*0.001)\n",
    "# number of chains (first chain discarded due to slower runtime)\n",
    "N_rep = 11\n",
    "#iterations\n",
    "burnin = np.int64(10/0.001)\n",
    "Niter = 2*burnin"
   ]
  },
  {
   "cell_type": "markdown",
   "metadata": {},
   "source": [
    "### Running SGLD-CV (0.001N) sampler"
   ]
  },
  {
   "cell_type": "code",
   "execution_count": 5,
   "metadata": {},
   "outputs": [],
   "source": [
    "runtime_df=[]\n",
    "samples_df = []\n",
    "grads_df = []"
   ]
  },
  {
   "cell_type": "code",
   "execution_count": 6,
   "metadata": {},
   "outputs": [
    {
     "name": "stderr",
     "output_type": "stream",
     "text": [
      "Number of chains run: 100%|██████████| 11/11 [09:00<00:00, 49.11s/it]\n"
     ]
    }
   ],
   "source": [
    "for i in tqdm(range(N_rep), desc = \"Number of chains run\"):\n",
    "    key, subkey = random.split(key)\n",
    "    theta_0 = jnp.zeros(dim)\n",
    "    theta_hat, samples_sgd, runtime_sgd = sgd.adam(key, gradf_0, gradf_i_batch, burnin, theta_0, x, y, n_batch, step_sgd, replacement=True)\n",
    "    samples, grads, runtime = sgldcv.sgld_cv_sampler(subkey, gradf_0, gradf_i_batch, burnin, step_size, theta_hat, theta_hat, x, y, n_batch, replacement=True)\n",
    "    \n",
    "    runtime_df.append(np.concatenate((runtime_sgd, runtime_sgd[burnin-1]+runtime))) #join output\n",
    "    samples_df.append(np.concatenate((samples_sgd, samples[1:]), axis=0))\n",
    "    grads_df.append(grads)    "
   ]
  },
  {
   "cell_type": "code",
   "execution_count": 7,
   "metadata": {},
   "outputs": [],
   "source": [
    "runtime_df = pd.DataFrame(np.column_stack(runtime_df)) #save output\n",
    "runtime_df.to_csv(\"./out/lrb_sgldcv_runtime.csv\", index=False)\n",
    "samples_df = pd.DataFrame(np.column_stack(samples_df))\n",
    "samples_df.to_csv(\"./out/lrb_sgldcv_samples.csv\", index=False)\n",
    "grads_df = pd.DataFrame(np.column_stack(grads_df))\n",
    "grads_df.to_csv(\"./out/lrb_sgldcv_grads.csv\", index=False)"
   ]
  },
  {
   "cell_type": "markdown",
   "metadata": {},
   "source": [
    "### Running SGLD-CV-PS (0.001N) sampler"
   ]
  },
  {
   "cell_type": "code",
   "execution_count": 8,
   "metadata": {},
   "outputs": [],
   "source": [
    "runtime_df=[]\n",
    "samples_df = []\n",
    "grads_df = []"
   ]
  },
  {
   "cell_type": "code",
   "execution_count": 9,
   "metadata": {},
   "outputs": [
    {
     "name": "stderr",
     "output_type": "stream",
     "text": [
      "Number of chains run: 100%|██████████| 11/11 [1:04:21<00:00, 351.01s/it]\n"
     ]
    }
   ],
   "source": [
    "for i in tqdm(range(N_rep), desc = \"Number of chains run\"):\n",
    "    key, subkey = random.split(key)\n",
    "    theta_0 = jnp.zeros(dim)\n",
    "    theta_hat, samples_sgd, runtime_sgd = sgd.adam(key, gradf_0, gradf_i_batch, burnin, theta_0, x, y, n_batch, step_sgd, replacement=True)\n",
    "    samples, grads, runtime, probs = sgldcvps.sgldcv_ps_sampler(subkey, gradf_0, gradf_i_batch, post_var, burnin, step_size, theta_hat, theta_hat, x, y, n_batch)\n",
    "    \n",
    "    runtime_df.append(np.concatenate((runtime_sgd, runtime_sgd[burnin-1]+runtime)))\n",
    "    samples_df.append(np.concatenate((samples_sgd, samples[1:]), axis=0))\n",
    "    grads_df.append(grads)"
   ]
  },
  {
   "cell_type": "code",
   "execution_count": 10,
   "metadata": {},
   "outputs": [],
   "source": [
    "runtime_df = pd.DataFrame(np.column_stack(runtime_df))\n",
    "runtime_df.to_csv(\"./out/lrb_sgldcvps_runtime.csv\", index=False)\n",
    "samples_df = pd.DataFrame(np.column_stack(samples_df))\n",
    "samples_df.to_csv(\"./out/lrb_sgldcvps_samples.csv\", index=False)\n",
    "grads_df = pd.DataFrame(np.column_stack(grads_df))\n",
    "grads_df.to_csv(\"./out/lrb_sgldcvps_grads.csv\", index=False)"
   ]
  },
  {
   "cell_type": "markdown",
   "metadata": {},
   "source": [
    "### Running SGLD (0.001N) sampler"
   ]
  },
  {
   "cell_type": "code",
   "execution_count": 11,
   "metadata": {},
   "outputs": [],
   "source": [
    "runtime_df=[]\n",
    "samples_df = []\n",
    "grads_df = []"
   ]
  },
  {
   "cell_type": "code",
   "execution_count": 12,
   "metadata": {},
   "outputs": [
    {
     "name": "stderr",
     "output_type": "stream",
     "text": [
      "Number of chains run: 100%|██████████| 11/11 [10:07<00:00, 55.25s/it]\n"
     ]
    }
   ],
   "source": [
    "for i in tqdm(range(N_rep), desc = \"Number of chains run\"):\n",
    "    key, subkey = random.split(key)\n",
    "    theta_0 = jnp.zeros(dim)\n",
    "    samples, grads, runtime = sgld.sgld_sampler(subkey, gradf_0, gradf_i_batch, Niter, step_size, theta_0, x, y, n_batch, replacement=True)\n",
    "    runtime_df.append(runtime)\n",
    "    samples_df.append(samples)\n",
    "    grads_df.append(grads)"
   ]
  },
  {
   "cell_type": "code",
   "execution_count": 13,
   "metadata": {},
   "outputs": [],
   "source": [
    "runtime_df = pd.DataFrame(np.column_stack(runtime_df))\n",
    "runtime_df.to_csv(\"./out/lrb_sgld_runtime.csv\", index=False)\n",
    "samples_df = pd.DataFrame(np.column_stack(samples_df))\n",
    "samples_df.to_csv(\"./out/lrb_sgld_samples.csv\", index=False)\n",
    "grads_df = pd.DataFrame(np.column_stack(grads_df))\n",
    "grads_df.to_csv(\"./out/lrb_sgld_grads.csv\", index=False)"
   ]
  },
  {
   "cell_type": "markdown",
   "metadata": {},
   "source": [
    "### Running SGLD-PS (0.001N) sampler "
   ]
  },
  {
   "cell_type": "code",
   "execution_count": 14,
   "metadata": {},
   "outputs": [],
   "source": [
    "runtime_df=[]\n",
    "samples_df = []\n",
    "grads_df = []"
   ]
  },
  {
   "cell_type": "code",
   "execution_count": 15,
   "metadata": {},
   "outputs": [
    {
     "name": "stderr",
     "output_type": "stream",
     "text": [
      "Number of chains run: 100%|██████████| 11/11 [1:00:30<00:00, 330.08s/it]\n"
     ]
    }
   ],
   "source": [
    "for i in tqdm(range(N_rep), desc = \"Number of chains run\"):\n",
    "    key, subkey = random.split(key)\n",
    "    theta_0 = jnp.zeros(dim)\n",
    "    theta_hat, samples_sgd, runtime_sgd = sgd.adam(key, gradf_0, gradf_i_batch, burnin, theta_0, x, y, n_batch, step_sgd, replacement=True)\n",
    "    samples, grads, runtime = sgldps.sgldps_sampler(subkey, gradf_0, gradf_i_batch, burnin, step_size, theta_hat, theta_hat, x, y, n_batch,  prob_type='approx')\n",
    "        \n",
    "    runtime_df.append(np.concatenate((runtime_sgd, runtime_sgd[burnin-1]+runtime)))\n",
    "    samples_df.append(np.concatenate((samples_sgd, samples[1:]), axis=0))\n",
    "    grads_df.append(grads)"
   ]
  },
  {
   "cell_type": "code",
   "execution_count": 16,
   "metadata": {},
   "outputs": [],
   "source": [
    "runtime_df = pd.DataFrame(np.column_stack(runtime_df))\n",
    "runtime_df.to_csv(\"./out/lrb_sgldps_runtime.csv\", index=False)\n",
    "samples_df = pd.DataFrame(np.column_stack(samples_df))\n",
    "samples_df.to_csv(\"./out/lrb_sgldps_samples.csv\", index=False)\n",
    "grads_df = pd.DataFrame(np.column_stack(grads_df))\n",
    "grads_df.to_csv(\"./out/lrb_sgldps_grads.csv\", index=False)"
   ]
  }
 ],
 "metadata": {
  "kernelspec": {
   "display_name": "Python 3",
   "language": "python",
   "name": "python3"
  },
  "language_info": {
   "codemirror_mode": {
    "name": "ipython",
    "version": 3
   },
   "file_extension": ".py",
   "mimetype": "text/x-python",
   "name": "python",
   "nbconvert_exporter": "python",
   "pygments_lexer": "ipython3",
   "version": "3.7.4"
  }
 },
 "nbformat": 4,
 "nbformat_minor": 2
}
