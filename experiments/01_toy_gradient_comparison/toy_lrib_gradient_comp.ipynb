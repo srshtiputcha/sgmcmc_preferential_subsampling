{
 "cells": [
  {
   "cell_type": "code",
   "execution_count": 1,
   "metadata": {},
   "outputs": [],
   "source": [
    "#import modules and set up environment \n",
    "import os\n",
    "import sys\n",
    "path = \"../../src/\"\n",
    "\n",
    "sys.path.append(path)\n",
    "\n",
    "import numpy as np\n",
    "import pandas as pd\n",
    "import matplotlib.pyplot as plt\n",
    "import seaborn as sns\n",
    "from tqdm import tqdm\n",
    "import jax.numpy as jnp\n",
    "from jax import jit, grad, vmap, hessian, scipy, random"
   ]
  },
  {
   "cell_type": "code",
   "execution_count": 2,
   "metadata": {},
   "outputs": [
    {
     "name": "stderr",
     "output_type": "stream",
     "text": [
      "WARNING:absl:No GPU/TPU found, falling back to CPU. (Set TF_CPP_MIN_LOG_LEVEL=0 and rerun for more info.)\n"
     ]
    }
   ],
   "source": [
    "#import sgmcmc code \n",
    "import models.logistic_regression.logistic_regression as lr\n",
    "import samplers.sgld as sgld\n",
    "import samplers.sgldps as sgldps\n",
    "import samplers.sgldcv as sgldcv\n",
    "import samplers.sgldcvps as sgldcvps\n",
    "import samplers.sgd as sgd\n",
    "\n",
    "key = random.PRNGKey(0)"
   ]
  },
  {
   "cell_type": "markdown",
   "metadata": {},
   "source": [
    "### Set up model and data"
   ]
  },
  {
   "cell_type": "code",
   "execution_count": 3,
   "metadata": {},
   "outputs": [
    {
     "data": {
      "text/plain": [
       "988.0"
      ]
     },
     "execution_count": 3,
     "metadata": {},
     "output_type": "execute_result"
    }
   ],
   "source": [
    "#load in the data\n",
    "file_path = \"../../data/synthetic/toy_lr_imbalance_train_synth.csv\"\n",
    "data = pd.read_csv(file_path)\n",
    "dat_array = data.values[:]\n",
    "x = dat_array[:, 1:]\n",
    "y = dat_array[:,0]\n",
    "\n",
    "sum(y)"
   ]
  },
  {
   "cell_type": "code",
   "execution_count": 4,
   "metadata": {},
   "outputs": [],
   "source": [
    "#set up model parameters\n",
    "N = x.shape[0]\n",
    "dim = x.shape[1] \n",
    "\n",
    "#priors\n",
    "mu_0 = np.zeros(dim) #prior mean\n",
    "lambda_0 = 10.0*np.eye(dim)  #prior covariance matrix"
   ]
  },
  {
   "cell_type": "code",
   "execution_count": 5,
   "metadata": {},
   "outputs": [],
   "source": [
    "#set up model-specific gradient functions\n",
    "gradf_0 = lr.gradf_0\n",
    "gradf_i_batch = lr.gradf_i_batch\n",
    "post_var = lr.post_var"
   ]
  },
  {
   "cell_type": "markdown",
   "metadata": {},
   "source": [
    "### Find mode using SGD"
   ]
  },
  {
   "cell_type": "code",
   "execution_count": 6,
   "metadata": {},
   "outputs": [],
   "source": [
    "#hyperparameters for SGD\n",
    "n_sgd = int(0.01*N)\n",
    "Niter_sgd = 10**4\n",
    "step_sgd = 1e-3"
   ]
  },
  {
   "cell_type": "code",
   "execution_count": 7,
   "metadata": {},
   "outputs": [
    {
     "name": "stdout",
     "output_type": "stream",
     "text": [
      "Initalising SGD to find mode at theta_0:\n",
      " [0. 0. 0. 0. 0.]\n"
     ]
    }
   ],
   "source": [
    "#draw theta_0 from the prior\n",
    "theta_start = jnp.zeros(dim) #random starting value\n",
    "print(\"Initalising SGD to find mode at theta_0:\\n\", theta_start)"
   ]
  },
  {
   "cell_type": "code",
   "execution_count": 8,
   "metadata": {},
   "outputs": [],
   "source": [
    "theta_hat, samples_sgd, run_time = sgd.adam(key, gradf_0, gradf_i_batch, Niter_sgd, theta_start, x, y, n_sgd, step_sgd, replacement=True)"
   ]
  },
  {
   "cell_type": "code",
   "execution_count": 9,
   "metadata": {},
   "outputs": [
    {
     "data": {
      "text/plain": [
       "array([ 0.93656433, -1.30027044,  1.02401328, -1.81391406,  0.11790969])"
      ]
     },
     "execution_count": 9,
     "metadata": {},
     "output_type": "execute_result"
    }
   ],
   "source": [
    "theta_hat"
   ]
  },
  {
   "cell_type": "code",
   "execution_count": 10,
   "metadata": {},
   "outputs": [
    {
     "data": {
      "text/plain": [
       "DeviceArray([[ 0.74375594, -1.6845198 ,  0.80323344, -1.9994667 ,\n",
       "              -0.02570256],\n",
       "             [ 0.19526291, -1.7324963 ,  1.219984  , -2.1950338 ,\n",
       "               0.35618848],\n",
       "             [ 0.6943455 , -1.5787483 ,  1.1151823 , -1.9177628 ,\n",
       "              -0.09174893],\n",
       "             [-1.2193822 , -2.0068364 ,  1.9670094 , -2.3089626 ,\n",
       "               0.84404826],\n",
       "             [ 0.5718819 , -1.3341489 ,  1.4023839 , -2.019978  ,\n",
       "              -0.07550318],\n",
       "             [ 2.4766343 , -0.9882709 ,  0.50295043, -2.0399265 ,\n",
       "              -0.9024755 ],\n",
       "             [ 1.5141598 , -1.0079905 ,  0.88360703, -1.6251979 ,\n",
       "               0.07107104],\n",
       "             [ 1.0993037 , -1.2664223 ,  1.1931986 , -1.4051132 ,\n",
       "               0.4355286 ],\n",
       "             [ 0.00617558, -1.603772  ,  1.4576167 , -1.8127699 ,\n",
       "               0.3679529 ],\n",
       "             [ 0.6201044 , -1.772526  ,  0.9849154 , -2.4414155 ,\n",
       "              -0.2622505 ]], dtype=float32)"
      ]
     },
     "execution_count": 10,
     "metadata": {},
     "output_type": "execute_result"
    }
   ],
   "source": [
    "# draw candidate thetas\n",
    "n_candidate = 10\n",
    "sigma_hat = post_var(theta_hat, x,y)[0]\n",
    "theta_candidates = random.multivariate_normal(key=key, mean = theta_hat, cov= sigma_hat, shape=(n_candidate,))\n",
    "theta_candidates"
   ]
  },
  {
   "cell_type": "markdown",
   "metadata": {},
   "source": [
    "### Set up experiment "
   ]
  },
  {
   "cell_type": "code",
   "execution_count": 11,
   "metadata": {},
   "outputs": [],
   "source": [
    "batch_sizes = jnp.int32(jnp.linspace(0.01, 0.99, num=50)*N)"
   ]
  },
  {
   "cell_type": "code",
   "execution_count": 12,
   "metadata": {},
   "outputs": [],
   "source": [
    "pseudo_var = dict()\n",
    "reps = 1000"
   ]
  },
  {
   "cell_type": "markdown",
   "metadata": {},
   "source": [
    "### SGLD gradients (with replacement)"
   ]
  },
  {
   "cell_type": "code",
   "execution_count": 13,
   "metadata": {},
   "outputs": [
    {
     "name": "stderr",
     "output_type": "stream",
     "text": [
      "Theta candidates tested: 100%|██████████| 10/10 [04:41<00:00, 28.17s/it]\n"
     ]
    }
   ],
   "source": [
    "pseudo_var['sgld-wr'] = np.zeros((n_candidate, batch_sizes.shape[0])) \n",
    "#sgld (wr) gradients\n",
    "for i in tqdm(range(n_candidate), desc = \"Theta candidates tested\"):\n",
    "    theta_candidate = theta_candidates[i]\n",
    "    for j in range(batch_sizes.shape[0]):\n",
    "        n = batch_sizes[j]\n",
    "        sgld_gradients1 = np.zeros((reps, dim))\n",
    "        for k in range(reps):\n",
    "            key, subkey = random.split(key)\n",
    "            grad = sgld.sgld_grad(subkey, theta_candidate, gradf_0, gradf_i_batch, x, y, n, replacement=True)\n",
    "            sgld_gradients1[k] = grad\n",
    "        pseudo_var['sgld-wr'][i,j] = np.sum(np.nanvar(sgld_gradients1, axis = 0))"
   ]
  },
  {
   "cell_type": "markdown",
   "metadata": {},
   "source": [
    "### SGLD gradients (without replacement)"
   ]
  },
  {
   "cell_type": "code",
   "execution_count": 14,
   "metadata": {},
   "outputs": [
    {
     "name": "stderr",
     "output_type": "stream",
     "text": [
      "Theta candidates tested: 100%|██████████| 10/10 [12:50<00:00, 77.08s/it]\n"
     ]
    }
   ],
   "source": [
    "pseudo_var['sgld-wor'] = np.zeros((n_candidate, batch_sizes.shape[0])) \n",
    "#sgld (wor) gradients\n",
    "for i in tqdm(range(n_candidate), desc = \"Theta candidates tested\"):\n",
    "    theta_candidate = theta_candidates[i]\n",
    "    for j in range(batch_sizes.shape[0]):\n",
    "        n = batch_sizes[j]\n",
    "        sgld_gradients2 = np.zeros((reps, dim))\n",
    "        for k in range(reps):\n",
    "            key, subkey = random.split(key)\n",
    "            grad = sgld.sgld_grad(subkey, theta_candidate, gradf_0, gradf_i_batch, x, y, n, replacement=False)\n",
    "            sgld_gradients2[k] = grad\n",
    "        pseudo_var['sgld-wor'][i,j] = np.sum(np.nanvar(sgld_gradients2, axis = 0))"
   ]
  },
  {
   "cell_type": "markdown",
   "metadata": {},
   "source": [
    "### SGLD-PS (exact probabilities)"
   ]
  },
  {
   "cell_type": "code",
   "execution_count": 15,
   "metadata": {},
   "outputs": [],
   "source": [
    "#sgld-ps (exact) gradients\n",
    "pseudo_var['sgld-ps-exact'] = np.zeros((n_candidate, batch_sizes.shape[0])) "
   ]
  },
  {
   "cell_type": "code",
   "execution_count": 16,
   "metadata": {},
   "outputs": [
    {
     "name": "stderr",
     "output_type": "stream",
     "text": [
      "Theta candidates tested: 100%|██████████| 10/10 [13:33<00:00, 81.36s/it]\n"
     ]
    }
   ],
   "source": [
    "for i in tqdm(range(n_candidate), desc = \"Theta candidates tested\"):\n",
    "    theta_candidate = theta_candidates[i]\n",
    "    probs1 = sgldps.exact_probs(theta_candidate, gradf_i_batch, x, y)\n",
    "    for j in range(batch_sizes.shape[0]):\n",
    "        n = batch_sizes[j]\n",
    "        sgldps_gradients1 = np.zeros((reps, dim))\n",
    "        for k in range(reps):\n",
    "            key, subkey = random.split(key)\n",
    "            grad = sgldps.sgldps_grad(subkey, theta_candidate, gradf_0, gradf_i_batch, probs1, x, y, n)\n",
    "            sgldps_gradients1[k] = grad\n",
    "        pseudo_var['sgld-ps-exact'][i,j] = np.sum(np.nanvar(sgldps_gradients1, axis = 0))"
   ]
  },
  {
   "cell_type": "markdown",
   "metadata": {},
   "source": [
    "### SGLD-PS (approximate probabilities)"
   ]
  },
  {
   "cell_type": "code",
   "execution_count": 17,
   "metadata": {},
   "outputs": [],
   "source": [
    "#sgld-ps (approx) gradients\n",
    "f_i_grad_list = sgldps.ps_preliminaries(theta_hat, gradf_i_batch, x, y)\n",
    "probs2 = sgldps.approx_probs(theta_hat, f_i_grad_list)\n",
    "pseudo_var['sgld-ps-approx'] = np.zeros((n_candidate, batch_sizes.shape[0])) "
   ]
  },
  {
   "cell_type": "code",
   "execution_count": 18,
   "metadata": {},
   "outputs": [
    {
     "name": "stderr",
     "output_type": "stream",
     "text": [
      " Theta candidates tested: 100%|██████████| 10/10 [12:57<00:00, 77.79s/it]\n"
     ]
    }
   ],
   "source": [
    "for i in tqdm(range(n_candidate), desc = \" Theta candidates tested\"):\n",
    "    theta_candidate = theta_candidates[i]\n",
    "    for j in range(batch_sizes.shape[0]):\n",
    "        n = batch_sizes[j]\n",
    "        sgldps_gradients2 = np.zeros((reps, dim))\n",
    "        for k in range(reps):\n",
    "            key, subkey = random.split(key)\n",
    "            grad = sgldps.sgldps_grad(subkey, theta_candidate, gradf_0, gradf_i_batch, probs2, x, y, n)\n",
    "            sgldps_gradients2[k] = grad\n",
    "        pseudo_var['sgld-ps-approx'][i, j] = np.sum(np.nanvar(sgldps_gradients2, axis = 0))"
   ]
  },
  {
   "cell_type": "markdown",
   "metadata": {},
   "source": [
    "### SGLD-CV gradients (with replacement)"
   ]
  },
  {
   "cell_type": "code",
   "execution_count": 19,
   "metadata": {},
   "outputs": [],
   "source": [
    "gradf_0_hat, grad_full_hat, f_i_grad_list = sgldcv.cv_preliminaries(theta_hat, gradf_0, gradf_i_batch, x, y)"
   ]
  },
  {
   "cell_type": "code",
   "execution_count": 20,
   "metadata": {},
   "outputs": [
    {
     "name": "stderr",
     "output_type": "stream",
     "text": [
      "Theta candidates tested: 100%|██████████| 10/10 [08:33<00:00, 51.37s/it]\n"
     ]
    }
   ],
   "source": [
    "pseudo_var['sgld-cv-wr'] = np.zeros((n_candidate, batch_sizes.shape[0])) \n",
    "\n",
    "#sgldcv gradients\n",
    "for i in tqdm(range(n_candidate), desc = \"Theta candidates tested\"):\n",
    "    theta_candidate = theta_candidates[i]\n",
    "    for j in range(batch_sizes.shape[0]):\n",
    "        n = batch_sizes[j]\n",
    "        sgldcv_gradients1 = np.zeros((reps, dim))\n",
    "        for k in range(reps):\n",
    "            key, subkey = random.split(key)\n",
    "            grad = sgldcv.sgld_cv_grad(subkey, theta_candidate, theta_hat, gradf_0, gradf_i_batch, grad_full_hat, f_i_grad_list, x, y, n, replacement=True)\n",
    "            sgldcv_gradients1[k] = grad\n",
    "        pseudo_var['sgld-cv-wr'][i, j] = np.sum(np.nanvar(sgldcv_gradients1, axis = 0))"
   ]
  },
  {
   "cell_type": "markdown",
   "metadata": {},
   "source": [
    "### SGLD-CV gradients (without replacement)"
   ]
  },
  {
   "cell_type": "code",
   "execution_count": 21,
   "metadata": {},
   "outputs": [
    {
     "name": "stderr",
     "output_type": "stream",
     "text": [
      "Theta candidates tested: 100%|██████████| 10/10 [17:24<00:00, 104.48s/it]\n"
     ]
    }
   ],
   "source": [
    "pseudo_var['sgld-cv-wor'] = np.zeros((n_candidate, batch_sizes.shape[0])) \n",
    "\n",
    "#sgldcv gradients\n",
    "for i in tqdm(range(n_candidate), desc = \"Theta candidates tested\"):\n",
    "    theta_candidate = theta_candidates[i]\n",
    "    for j in range(batch_sizes.shape[0]):\n",
    "        n = batch_sizes[j]\n",
    "        sgldcv_gradients2 = np.zeros((reps, dim))\n",
    "        for k in range(reps):\n",
    "            key, subkey = random.split(key)\n",
    "            grad = sgldcv.sgld_cv_grad(subkey, theta_candidate, theta_hat, gradf_0, gradf_i_batch, grad_full_hat, f_i_grad_list, x, y, n, replacement=False)\n",
    "            sgldcv_gradients2[k] = grad\n",
    "        pseudo_var['sgld-cv-wor'][i, j] = np.sum(np.nanvar(sgldcv_gradients2, axis = 0))"
   ]
  },
  {
   "cell_type": "markdown",
   "metadata": {},
   "source": [
    "### SGLD-CV-PS (exact probabilities) gradients"
   ]
  },
  {
   "cell_type": "code",
   "execution_count": 22,
   "metadata": {},
   "outputs": [],
   "source": [
    "cov_mat = sgldcvps.cvps_preliminaries(theta_hat, gradf_0, gradf_i_batch, post_var, x, y)[0]\n",
    "f_i_hess_list = sgldcvps.cvps_preliminaries(theta_hat, gradf_0, gradf_i_batch, post_var, x, y)[4]"
   ]
  },
  {
   "cell_type": "code",
   "execution_count": 23,
   "metadata": {},
   "outputs": [
    {
     "name": "stderr",
     "output_type": "stream",
     "text": [
      " Theta candidates tested: 100%|██████████| 10/10 [17:36<00:00, 105.64s/it]\n"
     ]
    }
   ],
   "source": [
    "#sgld-cv-ps (exact) gradients\n",
    "pseudo_var['sgld-cv-exact'] = np.zeros((n_candidate, batch_sizes.shape[0])) \n",
    "\n",
    "for i in tqdm(range(n_candidate), desc = \" Theta candidates tested\"):\n",
    "    theta_candidate = theta_candidates[i]\n",
    "    probs3 = sgldcvps.exact_probs(theta_candidate, theta_hat, gradf_i_batch, f_i_grad_list, x, y)\n",
    "    for j in range(batch_sizes.shape[0]):\n",
    "        n = batch_sizes[j]\n",
    "        sgldcvps_gradients1 = np.zeros((reps, dim))\n",
    "        for k in range(reps):\n",
    "            key, subkey = random.split(key)\n",
    "            grad = sgldcvps.sgldcv_ps_grad(subkey, theta_candidate, theta_hat, gradf_0, gradf_i_batch, grad_full_hat, f_i_grad_list, probs3, x, y, n)\n",
    "            sgldcvps_gradients1[k] = grad\n",
    "        pseudo_var['sgld-cv-exact'][i,j] = np.sum(np.nanvar(sgldcvps_gradients1, axis = 0))"
   ]
  },
  {
   "cell_type": "markdown",
   "metadata": {},
   "source": [
    "### SGLD-CV-PS (approximate probabilities) gradients"
   ]
  },
  {
   "cell_type": "code",
   "execution_count": 24,
   "metadata": {},
   "outputs": [],
   "source": [
    "#sgldps (approx) gradients\n",
    "probs4 = sgldcvps.approx_probs_fro(theta_hat, f_i_hess_list)"
   ]
  },
  {
   "cell_type": "code",
   "execution_count": 25,
   "metadata": {},
   "outputs": [
    {
     "name": "stderr",
     "output_type": "stream",
     "text": [
      "Theta candidates tested: 100%|██████████| 10/10 [17:26<00:00, 104.62s/it]\n"
     ]
    }
   ],
   "source": [
    "pseudo_var['sgld-cv-approx'] = np.zeros((n_candidate, batch_sizes.shape[0])) \n",
    "for i in tqdm(range(n_candidate), desc = \"Theta candidates tested\"):\n",
    "    theta_candidate = theta_candidates[i]\n",
    "    for j in range(batch_sizes.shape[0]):\n",
    "        n = batch_sizes[j]\n",
    "        sgldcvps_gradients2 = np.zeros((reps, dim))\n",
    "        for k in range(reps):\n",
    "            key, subkey = random.split(key)\n",
    "            grad = sgldcvps.sgldcv_ps_grad(subkey, theta_candidate, theta_hat, gradf_0, gradf_i_batch, grad_full_hat, f_i_grad_list, probs4, x, y, n)\n",
    "            sgldcvps_gradients2[k] = grad\n",
    "        pseudo_var['sgld-cv-approx'][i,j] = np.sum(np.nanvar(sgldcvps_gradients2, axis = 0))"
   ]
  },
  {
   "cell_type": "markdown",
   "metadata": {},
   "source": [
    "### Save results "
   ]
  },
  {
   "cell_type": "code",
   "execution_count": 26,
   "metadata": {},
   "outputs": [],
   "source": [
    "plot_data = []\n",
    "for key in pseudo_var:\n",
    "    smooth_path = pseudo_var[key].mean(axis = 0)\n",
    "    plot_data.append(smooth_path)\n",
    "    path_deviation = 2*pseudo_var[key].std(axis = 0)\n",
    "    under_line = (smooth_path-path_deviation)\n",
    "    plot_data.append(under_line)\n",
    "    over_line = (smooth_path+path_deviation)\n",
    "    plot_data.append(over_line) \n",
    "    \n",
    "df = pd.DataFrame(plot_data).T\n",
    "df['proportion'] = np.linspace(0.01, 0.99, num = 50)"
   ]
  },
  {
   "cell_type": "code",
   "execution_count": 27,
   "metadata": {},
   "outputs": [],
   "source": [
    "path_out = \"./out/toy_lrib_gradient_comp.csv\"\n",
    "df.to_csv(path_out, index = False) #save csv"
   ]
  }
 ],
 "metadata": {
  "kernelspec": {
   "display_name": "Python 3",
   "language": "python",
   "name": "python3"
  },
  "language_info": {
   "codemirror_mode": {
    "name": "ipython",
    "version": 3
   },
   "file_extension": ".py",
   "mimetype": "text/x-python",
   "name": "python",
   "nbconvert_exporter": "python",
   "pygments_lexer": "ipython3",
   "version": "3.7.4"
  }
 },
 "nbformat": 4,
 "nbformat_minor": 2
}
