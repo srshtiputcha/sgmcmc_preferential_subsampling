{
 "cells": [
  {
   "cell_type": "code",
   "execution_count": 1,
   "metadata": {},
   "outputs": [
    {
     "name": "stderr",
     "output_type": "stream",
     "text": [
      "WARNING:absl:No GPU/TPU found, falling back to CPU. (Set TF_CPP_MIN_LOG_LEVEL=0 and rerun for more info.)\n"
     ]
    }
   ],
   "source": [
    "#import modules and set up environment \n",
    "import os\n",
    "import sys\n",
    "path = \"../../src/\"\n",
    "\n",
    "sys.path.append(path)\n",
    "\n",
    "import numpy as np\n",
    "import pandas as pd\n",
    "import matplotlib.pyplot as plt\n",
    "import seaborn as sns\n",
    "from tqdm import tqdm\n",
    "import jax.numpy as jnp\n",
    "from jax import jit, grad, vmap, hessian, scipy, random\n",
    "\n",
    "#import sgmcmc code \n",
    "import models.bivariate_gaussian.bivariate_gaussian as bvg\n",
    "import samplers.sgd as sgd\n",
    "import samplers.sgld as sgld\n",
    "import samplers.sgldps as sgldps\n",
    "\n",
    "key = random.PRNGKey(100)"
   ]
  },
  {
   "cell_type": "code",
   "execution_count": 2,
   "metadata": {},
   "outputs": [],
   "source": [
    "#set up model-specific gradient functions\n",
    "gradf_0 = bvg.gradf_0\n",
    "gradf_i_batch = bvg.gradf_i_batch\n",
    "post_var = bvg.post_var"
   ]
  },
  {
   "cell_type": "markdown",
   "metadata": {},
   "source": [
    "### Set up model and data"
   ]
  },
  {
   "cell_type": "code",
   "execution_count": 3,
   "metadata": {},
   "outputs": [],
   "source": [
    "#load in the data\n",
    "file_path = \"../../data/synthetic/bvg_synth.csv\"\n",
    "data = pd.read_csv(file_path)\n",
    "dat_array = data.values[:]\n",
    "x = np.array(dat_array)\n",
    "N = dat_array.shape[0]\n",
    "y = np.array([None]*N) "
   ]
  },
  {
   "cell_type": "code",
   "execution_count": 4,
   "metadata": {},
   "outputs": [],
   "source": [
    "#set up model parameters\n",
    "dim = 2 \n",
    "theta_true = jnp.array([0., 1.]) #data mean\n",
    "xbar = jnp.mean(x, axis = 0)\n",
    "sigma_x = jnp.array([[ 1*10**5 , 6*10**4], [6*10**4,  2*10**5]]) #data covariance matrix\n",
    "sigma_x_inv = jnp.linalg.inv(sigma_x) #data precision \n",
    "mu_0 = jnp.array([0., 0.]) #prior mean\n",
    "lambda_0 = jnp.array([[ 1000 , 0.], [0.,  1000]])  #prior scale\n",
    "lambda_0_inv = jnp.linalg.inv(lambda_0)\n",
    "\n",
    "#posterior \n",
    "lambda_1_inv = lambda_0_inv + N*sigma_x_inv #posterior precision\n",
    "lambda_1 = jnp.linalg.inv(lambda_1_inv) #posterior covariance\n",
    "mu_1 = jnp.matmul(lambda_1, N*jnp.matmul(sigma_x_inv, xbar) + jnp.matmul(lambda_0_inv, mu_0)) #posterior mean"
   ]
  },
  {
   "cell_type": "markdown",
   "metadata": {},
   "source": [
    "### Set up sampling framework"
   ]
  },
  {
   "cell_type": "code",
   "execution_count": 5,
   "metadata": {},
   "outputs": [],
   "source": [
    "# step-size\n",
    "step_size = 10**(-4)\n",
    "# batch sizes\n",
    "n_batch = np.int64(N*np.array([0.01, 0.05, 0.1]))\n",
    "# number of chains\n",
    "N_rep = 11"
   ]
  },
  {
   "cell_type": "markdown",
   "metadata": {},
   "source": [
    "### SGLD (0.01N)"
   ]
  },
  {
   "cell_type": "code",
   "execution_count": 6,
   "metadata": {},
   "outputs": [],
   "source": [
    "n = n_batch[0]\n",
    "burnin = np.int64((N*500)/n)\n",
    "Niter = 2*burnin\n",
    "\n",
    "runtime_df=[]\n",
    "samples_df = []\n",
    "grads_df = []"
   ]
  },
  {
   "cell_type": "code",
   "execution_count": 7,
   "metadata": {},
   "outputs": [
    {
     "name": "stderr",
     "output_type": "stream",
     "text": [
      "Number of chains run: 100%|██████████| 11/11 [34:24<00:00, 187.67s/it]\n"
     ]
    }
   ],
   "source": [
    "for i in tqdm(range(N_rep), desc = \"Number of chains run\"):\n",
    "    key, subkey = random.split(key)\n",
    "    theta_0 = random.multivariate_normal(key=key, mean=mu_0, cov=lambda_0)\n",
    "    samples, grads, runtime = sgld.sgld_sampler(subkey, gradf_0, gradf_i_batch, Niter, step_size, theta_0, x, y, n, replacement=True)\n",
    "    runtime_df.append(runtime)\n",
    "    samples_df.append(samples)\n",
    "    grads_df.append(grads)"
   ]
  },
  {
   "cell_type": "code",
   "execution_count": 8,
   "metadata": {},
   "outputs": [],
   "source": [
    "runtime_df = pd.DataFrame(np.column_stack(runtime_df))\n",
    "runtime_df.to_csv(\"./out/bvg_sgld_1_runtime.csv\", index=False)\n",
    "samples_df = pd.DataFrame(np.column_stack(samples_df))\n",
    "samples_df.to_csv(\"./out/bvg_sgld_1_samples.csv\", index=False)\n",
    "grads_df = pd.DataFrame(np.column_stack(grads_df))\n",
    "grads_df.to_csv(\"./out/bvg_sgld_1_grads.csv\", index=False)"
   ]
  },
  {
   "cell_type": "markdown",
   "metadata": {},
   "source": [
    "### SGLD (0.05N)"
   ]
  },
  {
   "cell_type": "code",
   "execution_count": 9,
   "metadata": {},
   "outputs": [],
   "source": [
    "n = n_batch[1]\n",
    "burnin = np.int64((N*500)/n)\n",
    "Niter = 2*burnin\n",
    "\n",
    "runtime_df=[]\n",
    "samples_df = []\n",
    "grads_df = []"
   ]
  },
  {
   "cell_type": "code",
   "execution_count": 10,
   "metadata": {},
   "outputs": [
    {
     "name": "stderr",
     "output_type": "stream",
     "text": [
      "Number of chains run: 100%|██████████| 11/11 [07:17<00:00, 39.78s/it]\n"
     ]
    }
   ],
   "source": [
    "for i in tqdm(range(N_rep), desc = \"Number of chains run\"):\n",
    "    key, subkey = random.split(key)\n",
    "    theta_0 = random.multivariate_normal(key=key, mean=mu_0, cov=lambda_0)\n",
    "    samples, grads, runtime = sgld.sgld_sampler(subkey, gradf_0, gradf_i_batch, Niter, step_size, theta_0, x, y, n, replacement=True)\n",
    "    runtime_df.append(runtime)\n",
    "    samples_df.append(samples)\n",
    "    grads_df.append(grads)"
   ]
  },
  {
   "cell_type": "code",
   "execution_count": 11,
   "metadata": {},
   "outputs": [],
   "source": [
    "runtime_df = pd.DataFrame(np.column_stack(runtime_df))\n",
    "runtime_df.to_csv(\"./out/bvg_sgld_5_runtime.csv\", index=False)\n",
    "samples_df = pd.DataFrame(np.column_stack(samples_df))\n",
    "samples_df.to_csv(\"./out/bvg_sgld_5_samples.csv\", index=False)\n",
    "grads_df = pd.DataFrame(np.column_stack(grads_df))\n",
    "grads_df.to_csv(\"./out/bvg_sgld_5_grads.csv\", index=False)"
   ]
  },
  {
   "cell_type": "markdown",
   "metadata": {},
   "source": [
    "### SGLD (0.1N)"
   ]
  },
  {
   "cell_type": "code",
   "execution_count": 12,
   "metadata": {},
   "outputs": [],
   "source": [
    "n = n_batch[2]\n",
    "burnin = np.int64((N*500)/n)\n",
    "Niter = 2*burnin\n",
    "\n",
    "runtime_df=[]\n",
    "samples_df = []\n",
    "grads_df = []"
   ]
  },
  {
   "cell_type": "code",
   "execution_count": 13,
   "metadata": {},
   "outputs": [
    {
     "name": "stderr",
     "output_type": "stream",
     "text": [
      "Number of chains run: 100%|██████████| 11/11 [03:41<00:00, 20.13s/it]\n"
     ]
    }
   ],
   "source": [
    "for i in tqdm(range(N_rep), desc = \"Number of chains run\"):\n",
    "    key, subkey = random.split(key)\n",
    "    theta_0 = random.multivariate_normal(key=key, mean=mu_0, cov=lambda_0)\n",
    "    samples, grads, runtime = sgld.sgld_sampler(subkey, gradf_0, gradf_i_batch, Niter, step_size, theta_0, x, y, n, replacement=True)\n",
    "    runtime_df.append(runtime)\n",
    "    samples_df.append(samples)\n",
    "    grads_df.append(grads)"
   ]
  },
  {
   "cell_type": "code",
   "execution_count": 14,
   "metadata": {},
   "outputs": [],
   "source": [
    "runtime_df = pd.DataFrame(np.column_stack(runtime_df))\n",
    "runtime_df.to_csv(\"./out/bvg_sgld_10_runtime.csv\", index=False)\n",
    "samples_df = pd.DataFrame(np.column_stack(samples_df))\n",
    "samples_df.to_csv(\"./out/bvg_sgld_10_samples.csv\", index=False)\n",
    "grads_df = pd.DataFrame(np.column_stack(grads_df))\n",
    "grads_df.to_csv(\"./out/bvg_sgld_10_grads.csv\", index=False)"
   ]
  },
  {
   "cell_type": "markdown",
   "metadata": {},
   "source": [
    "### SGLD-PS (0.01N)"
   ]
  },
  {
   "cell_type": "code",
   "execution_count": 15,
   "metadata": {},
   "outputs": [],
   "source": [
    "n = n_batch[0]\n",
    "burnin = np.int64((N*500)/n)\n",
    "step_sgd = 1e-03\n",
    "Niter = 2*burnin\n",
    "runtime_df=[]\n",
    "samples_df = []\n",
    "grads_df = []"
   ]
  },
  {
   "cell_type": "code",
   "execution_count": 16,
   "metadata": {},
   "outputs": [
    {
     "name": "stderr",
     "output_type": "stream",
     "text": [
      "Number of chains run: 100%|██████████| 11/11 [40:11<00:00, 219.26s/it]\n"
     ]
    }
   ],
   "source": [
    "for i in tqdm(range(N_rep), desc = \"Number of chains run\"):\n",
    "    key, subkey = random.split(key)\n",
    "    theta_0 = random.multivariate_normal(key=key, mean=mu_0, cov=lambda_0)\n",
    "    theta_hat, samples_sgd, runtime_sgd = sgd.adam_x(key, gradf_0, gradf_i_batch, burnin, theta_0, x, n, step_sgd, replacement=True)\n",
    "    samples, grads, runtime = sgldps.sgldps_sampler(subkey, gradf_0, gradf_i_batch, burnin, step_size, theta_hat, theta_hat, x, y, n,  prob_type='approx')\n",
    "        \n",
    "    runtime_df.append(np.concatenate((runtime_sgd, runtime_sgd[burnin-1]+runtime)))\n",
    "    samples_df.append(np.concatenate((samples_sgd, samples[1:]), axis=0))\n",
    "    grads_df.append(grads)"
   ]
  },
  {
   "cell_type": "code",
   "execution_count": 17,
   "metadata": {},
   "outputs": [],
   "source": [
    "runtime_df = pd.DataFrame(np.column_stack(runtime_df))\n",
    "runtime_df.to_csv(\"./out/bvg_sgldps_1_runtime.csv\", index=False)\n",
    "samples_df = pd.DataFrame(np.column_stack(samples_df))\n",
    "samples_df.to_csv(\"./out/bvg_sgldps_1_samples.csv\", index=False)\n",
    "grads_df = pd.DataFrame(np.column_stack(grads_df))\n",
    "grads_df.to_csv(\"./out/bvg_sgldps_1_grads.csv\", index=False)"
   ]
  },
  {
   "cell_type": "markdown",
   "metadata": {},
   "source": [
    "### SGLD-PS (0.05N)"
   ]
  },
  {
   "cell_type": "code",
   "execution_count": 18,
   "metadata": {},
   "outputs": [],
   "source": [
    "n = n_batch[1]\n",
    "burnin = np.int64((N*500)/n)\n",
    "Niter = 2*burnin\n",
    "runtime_df=[]\n",
    "samples_df = []\n",
    "grads_df = []"
   ]
  },
  {
   "cell_type": "code",
   "execution_count": 19,
   "metadata": {},
   "outputs": [
    {
     "name": "stderr",
     "output_type": "stream",
     "text": [
      "Number of chains run: 100%|██████████| 11/11 [09:44<00:00, 53.12s/it]\n"
     ]
    }
   ],
   "source": [
    "for i in tqdm(range(N_rep), desc = \"Number of chains run\"):\n",
    "    key, subkey = random.split(key)\n",
    "    theta_0 = random.multivariate_normal(key=key, mean=mu_0, cov=lambda_0)\n",
    "    theta_hat, samples_sgd, runtime_sgd = sgd.adam_x(key, gradf_0, gradf_i_batch, burnin, theta_0, x, n, step_sgd, replacement=True)\n",
    "    samples, grads, runtime = sgldps.sgldps_sampler(subkey, gradf_0, gradf_i_batch, burnin, step_size, theta_hat, theta_hat, x, y, n,  prob_type='approx')\n",
    "        \n",
    "    runtime_df.append(np.concatenate((runtime_sgd, runtime_sgd[burnin-1]+runtime)))\n",
    "    samples_df.append(np.concatenate((samples_sgd, samples[1:]), axis=0))\n",
    "    grads_df.append(grads)"
   ]
  },
  {
   "cell_type": "code",
   "execution_count": 20,
   "metadata": {},
   "outputs": [],
   "source": [
    "runtime_df = pd.DataFrame(np.column_stack(runtime_df))\n",
    "runtime_df.to_csv(\"./out/bvg_sgldps_5_runtime.csv\", index=False)\n",
    "samples_df = pd.DataFrame(np.column_stack(samples_df))\n",
    "samples_df.to_csv(\"./out/bvg_sgldps_5_samples.csv\", index=False)\n",
    "grads_df = pd.DataFrame(np.column_stack(grads_df))\n",
    "grads_df.to_csv(\"./out/bvg_sgldps_5_grads.csv\", index=False)"
   ]
  },
  {
   "cell_type": "markdown",
   "metadata": {},
   "source": [
    "### SGLD-PS (0.1N)"
   ]
  },
  {
   "cell_type": "code",
   "execution_count": 21,
   "metadata": {},
   "outputs": [],
   "source": [
    "n = n_batch[2]\n",
    "burnin = np.int64((N*500)/n)\n",
    "Niter = 2*burnin\n",
    "runtime_df=[]\n",
    "samples_df = []\n",
    "grads_df = []"
   ]
  },
  {
   "cell_type": "code",
   "execution_count": 22,
   "metadata": {},
   "outputs": [
    {
     "name": "stderr",
     "output_type": "stream",
     "text": [
      "Number of chains run: 100%|██████████| 11/11 [05:42<00:00, 31.12s/it]\n"
     ]
    }
   ],
   "source": [
    "for i in tqdm(range(N_rep), desc = \"Number of chains run\"):\n",
    "    key, subkey = random.split(key)\n",
    "    theta_0 = random.multivariate_normal(key=key, mean=mu_0, cov=lambda_0)\n",
    "    theta_hat, samples_sgd, runtime_sgd = sgd.adam_x(key, gradf_0, gradf_i_batch, burnin, theta_0, x, n, step_sgd, replacement=True)\n",
    "    samples, grads, runtime = sgldps.sgldps_sampler(subkey, gradf_0, gradf_i_batch, burnin, step_size, theta_hat, theta_hat, x, y, n,  prob_type='approx')\n",
    "        \n",
    "    runtime_df.append(np.concatenate((runtime_sgd, runtime_sgd[burnin-1]+runtime)))\n",
    "    samples_df.append(np.concatenate((samples_sgd, samples[1:]), axis=0))\n",
    "    grads_df.append(grads)"
   ]
  },
  {
   "cell_type": "code",
   "execution_count": 23,
   "metadata": {},
   "outputs": [],
   "source": [
    "runtime_df = pd.DataFrame(np.column_stack(runtime_df))\n",
    "runtime_df.to_csv(\"./out/bvg_sgldps_10_runtime.csv\", index=False)\n",
    "samples_df = pd.DataFrame(np.column_stack(samples_df))\n",
    "samples_df.to_csv(\"./out/bvg_sgldps_10_samples.csv\", index=False)\n",
    "grads_df = pd.DataFrame(np.column_stack(grads_df))\n",
    "grads_df.to_csv(\"./out/bvg_sgldps_10_grads.csv\", index=False)"
   ]
  }
 ],
 "metadata": {
  "kernelspec": {
   "display_name": "Python 3",
   "language": "python",
   "name": "python3"
  },
  "language_info": {
   "codemirror_mode": {
    "name": "ipython",
    "version": 3
   },
   "file_extension": ".py",
   "mimetype": "text/x-python",
   "name": "python",
   "nbconvert_exporter": "python",
   "pygments_lexer": "ipython3",
   "version": "3.7.4"
  }
 },
 "nbformat": 4,
 "nbformat_minor": 2
}
